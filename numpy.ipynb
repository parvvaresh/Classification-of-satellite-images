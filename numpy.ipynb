{
  "nbformat": 4,
  "nbformat_minor": 0,
  "metadata": {
    "colab": {
      "provenance": [],
      "collapsed_sections": []
    },
    "kernelspec": {
      "name": "python3",
      "display_name": "Python 3"
    },
    "language_info": {
      "name": "python"
    }
  },
  "cells": [
    {
      "cell_type": "code",
      "source": [
        "\n",
        "\n",
        "\n",
        "\n",
        "\n",
        "\n",
        "#Numpy is a Python library created to work with arrays. \n",
        "#The numpy library also has functions for performing various operations on linear algebra, Fourier transform, and matrices.\n",
        "#Numpy was created in 2005 by Travis Oliphant as an open source project.\n",
        "#Numpy The numerical Python stands for Numerical Python."
      ],
      "metadata": {
        "id": "ANYh3yvHgcwi"
      },
      "execution_count": null,
      "outputs": []
    },
    {
      "cell_type": "code",
      "source": [
        "#Installation Method\n",
        "#Go to Google Coolb\n",
        "#And the phrase! Pip install numpy Write"
      ],
      "metadata": {
        "id": "pYaJhie6gdfX"
      },
      "execution_count": null,
      "outputs": []
    },
    {
      "cell_type": "code",
      "execution_count": null,
      "metadata": {
        "colab": {
          "base_uri": "https://localhost:8080/"
        },
        "id": "QDZSss2qS_D9",
        "outputId": "7949697e-3fa5-40a3-83ee-885f94ad121f"
      },
      "outputs": [
        {
          "output_type": "stream",
          "name": "stdout",
          "text": [
            "[1, 2, 3, 4]\n",
            "<class 'list'>\n"
          ]
        }
      ],
      "source": [
        "#Reminiscent of Python\n",
        "list = [1,2,3,4]\n",
        "print(list)\n",
        "print(type(list))"
      ]
    },
    {
      "cell_type": "markdown",
      "source": [],
      "metadata": {
        "id": "0lLIeTb-gHQm"
      }
    },
    {
      "cell_type": "code",
      "source": [
        "#Array in Python\n",
        "import numpy as np\n",
        "array = np.array([1,2,3,4,5])\n",
        "print(array)\n",
        "print(type(array))\n",
        "\n"
      ],
      "metadata": {
        "colab": {
          "base_uri": "https://localhost:8080/"
        },
        "id": "INy67INfTX1U",
        "outputId": "9c4625e0-3d70-4e3c-cbcf-6aeaa7e5881d"
      },
      "execution_count": null,
      "outputs": [
        {
          "output_type": "stream",
          "name": "stdout",
          "text": [
            "[1 2 3 4 5]\n",
            "<class 'numpy.ndarray'>\n"
          ]
        }
      ]
    },
    {
      "cell_type": "code",
      "source": [
        "#array of presentation with list\n",
        "import numpy as np\n",
        "array = np.array([1,2,3,4,5])\n",
        "print(array[1])\n",
        "print(array[1:3])\n",
        "print(array[:-1])\n",
        "#It's a lot like a list isn't it?\n"
      ],
      "metadata": {
        "colab": {
          "base_uri": "https://localhost:8080/"
        },
        "id": "mosinP1VT9Tz",
        "outputId": "03f08171-5f06-4a1d-ffe0-72760672f4a4"
      },
      "execution_count": null,
      "outputs": [
        {
          "output_type": "stream",
          "name": "stdout",
          "text": [
            "2\n",
            "[2 3]\n",
            "[1 2 3 4]\n"
          ]
        }
      ]
    },
    {
      "cell_type": "code",
      "source": [
        "#Change elements in array\n",
        "import numpy as np\n",
        "array = np.array([1,2,3,4,5])\n",
        "array[2] = 87\n",
        "print(array)\n",
        "#very good"
      ],
      "metadata": {
        "colab": {
          "base_uri": "https://localhost:8080/"
        },
        "id": "2FMDkaejUwSy",
        "outputId": "d36cd33a-ca36-4819-c190-84d4add4837d"
      },
      "execution_count": null,
      "outputs": [
        {
          "output_type": "stream",
          "name": "stdout",
          "text": [
            "[ 1  2 87  4  5]\n"
          ]
        }
      ]
    },
    {
      "cell_type": "code",
      "source": [
        "#2D array\n",
        "import numpy as np\n",
        "array_2d = np.array([[1,2,3],\n",
        "                     [4,4,6],\n",
        "                     [7,8,9]\n",
        "                     ])\n",
        "print(array_2d)\n",
        "print(\"-------\")\n",
        "print(array_2d[0])\n",
        "print(\"-------\")\n",
        "print(array_2d[1])\n",
        "print(\"-------\")\n",
        "print(array_2d[2])\n",
        "print(\"-------\")\n",
        "print(array[1:2])\n",
        "#Like the matrix that i and j have With the difference that i and j start from zero\n",
        "\n",
        "\n"
      ],
      "metadata": {
        "colab": {
          "base_uri": "https://localhost:8080/"
        },
        "id": "juQJfxy8Vhfb",
        "outputId": "b48a3a6d-660e-4214-b965-63a1b0b73e69"
      },
      "execution_count": null,
      "outputs": [
        {
          "output_type": "stream",
          "name": "stdout",
          "text": [
            "[[1 2 3]\n",
            " [4 4 6]\n",
            " [7 8 9]]\n",
            "-------\n",
            "[1 2 3]\n",
            "-------\n",
            "[4 4 6]\n",
            "-------\n",
            "[7 8 9]\n",
            "-------\n",
            "[2]\n"
          ]
        }
      ]
    },
    {
      "cell_type": "code",
      "source": [
        "import numpy as np\n",
        "array_2d = np.array([[1,2,3],\n",
        "                     [4,4,6],\n",
        "                     [7,8,9]\n",
        "\n",
        "                     ])\n",
        "#Shows rows and columns\n",
        "print(array_2d.shape)\n",
        "#Number of array dimensions.\n",
        "print(array_2d.ndim)\n",
        "#Indicates the number of elements\n",
        "print(array_2d.size)\n",
        "#Indicates the type\n",
        "print(array_2d.dtype)"
      ],
      "metadata": {
        "colab": {
          "base_uri": "https://localhost:8080/"
        },
        "id": "81r5tbWIW4Br",
        "outputId": "2c52db08-71ae-4980-d4ae-f53848b7ab52"
      },
      "execution_count": null,
      "outputs": [
        {
          "output_type": "stream",
          "name": "stdout",
          "text": [
            "(3, 3)\n",
            "2\n",
            "9\n",
            "int64\n"
          ]
        }
      ]
    },
    {
      "cell_type": "code",
      "source": [
        "#filling array\n",
        "\n",
        "import numpy as np\n",
        "array = np.full((3,4), 5)\n",
        "#It has 3 arguments\n",
        "#The first argument is row\n",
        "#The second  argument is column\n",
        "#The third argument is the number you want to put\n",
        "print(array)"
      ],
      "metadata": {
        "colab": {
          "base_uri": "https://localhost:8080/"
        },
        "id": "HqvSPEI-dRRs",
        "outputId": "4d8cb0ab-00b4-4401-d03f-c28d65f346d0"
      },
      "execution_count": null,
      "outputs": [
        {
          "output_type": "stream",
          "name": "stdout",
          "text": [
            "[[5 5 5 5]\n",
            " [5 5 5 5]\n",
            " [5 5 5 5]]\n"
          ]
        }
      ]
    },
    {
      "cell_type": "code",
      "source": [
        "import numpy as np\n",
        "#All elements are zero\n",
        "array_z = np.zeros((3,4))\n",
        "print(array_z)\n",
        "#It has 2 arguments\n",
        "#The first argument is row\n",
        "#The second  argument is column"
      ],
      "metadata": {
        "colab": {
          "base_uri": "https://localhost:8080/"
        },
        "id": "LS-g5d3AikpJ",
        "outputId": "f6ecdd50-e04a-4401-fedb-1848ae10d78d"
      },
      "execution_count": null,
      "outputs": [
        {
          "output_type": "stream",
          "name": "stdout",
          "text": [
            "[[0. 0. 0. 0.]\n",
            " [0. 0. 0. 0.]\n",
            " [0. 0. 0. 0.]]\n"
          ]
        }
      ]
    },
    {
      "cell_type": "code",
      "source": [
        "import numpy as np\n",
        "#All elements are one\n",
        "array_one = np.ones((3,4))\n",
        "print(array_one)\n",
        "#It has 2 arguments\n",
        "#The first argument is row\n",
        "#The second  argument is column"
      ],
      "metadata": {
        "colab": {
          "base_uri": "https://localhost:8080/"
        },
        "id": "UusCBpYZjWAa",
        "outputId": "c6ee411e-4675-446f-a924-45b92241634d"
      },
      "execution_count": null,
      "outputs": [
        {
          "output_type": "stream",
          "name": "stdout",
          "text": [
            "[[1. 1. 1. 1.]\n",
            " [1. 1. 1. 1.]\n",
            " [1. 1. 1. 1.]]\n"
          ]
        }
      ]
    },
    {
      "cell_type": "code",
      "source": [
        "import numpy as np\n",
        "#Takes any amount from memory\n",
        "array_empty = np.empty((3,5))\n",
        "print(array_empty)\n",
        "#It has 2 arguments\n",
        "#The first argument is row\n",
        "#The second  argument is column\n"
      ],
      "metadata": {
        "colab": {
          "base_uri": "https://localhost:8080/"
        },
        "id": "sCWgmRTGjl0L",
        "outputId": "c2be5e64-2c4d-44b3-eeee-b0d9a2dabe85"
      },
      "execution_count": null,
      "outputs": [
        {
          "output_type": "stream",
          "name": "stdout",
          "text": [
            "[[4.68105517e-310 1.06099790e-312 1.01855798e-312 9.54898106e-313\n",
            "  1.16709769e-312]\n",
            " [1.03977794e-312 1.23075756e-312 1.16709769e-312 1.06099790e-312\n",
            "  9.76118064e-313]\n",
            " [1.03977794e-312 1.12465777e-312 1.18831764e-312 4.44659081e-322\n",
            "  0.00000000e+000]]\n"
          ]
        }
      ]
    },
    {
      "cell_type": "code",
      "source": [
        "#Build a sequence\n",
        "import numpy as np\n",
        "\n",
        "sequence = np.arange(0,1000,5)\n",
        "#It has 3 arguments\n",
        "##The first argument is row\n",
        "#The second  argument is column\n",
        "#The third argument is Step\n",
        "#Note that the third argument means the end and is not printed by itself\n",
        "\n",
        "print(sequence)\n"
      ],
      "metadata": {
        "colab": {
          "base_uri": "https://localhost:8080/"
        },
        "id": "65sBqhOtlvt3",
        "outputId": "dad2d3ae-6150-4076-ba6b-570c086b0820"
      },
      "execution_count": null,
      "outputs": [
        {
          "output_type": "stream",
          "name": "stdout",
          "text": [
            "[  0   5  10  15  20  25  30  35  40  45  50  55  60  65  70  75  80  85\n",
            "  90  95 100 105 110 115 120 125 130 135 140 145 150 155 160 165 170 175\n",
            " 180 185 190 195 200 205 210 215 220 225 230 235 240 245 250 255 260 265\n",
            " 270 275 280 285 290 295 300 305 310 315 320 325 330 335 340 345 350 355\n",
            " 360 365 370 375 380 385 390 395 400 405 410 415 420 425 430 435 440 445\n",
            " 450 455 460 465 470 475 480 485 490 495 500 505 510 515 520 525 530 535\n",
            " 540 545 550 555 560 565 570 575 580 585 590 595 600 605 610 615 620 625\n",
            " 630 635 640 645 650 655 660 665 670 675 680 685 690 695 700 705 710 715\n",
            " 720 725 730 735 740 745 750 755 760 765 770 775 780 785 790 795 800 805\n",
            " 810 815 820 825 830 835 840 845 850 855 860 865 870 875 880 885 890 895\n",
            " 900 905 910 915 920 925 930 935 940 945 950 955 960 965 970 975 980 985\n",
            " 990 995]\n"
          ]
        }
      ]
    },
    {
      "cell_type": "code",
      "source": [
        "import numpy as np\n",
        "linspace = np.linspace(0,10,5)\n",
        "#It has 3 arguments\n",
        "##The first argument is row\n",
        "#The second  argument is column\n",
        "#The third argument is Step\n",
        "print(linspace)"
      ],
      "metadata": {
        "colab": {
          "base_uri": "https://localhost:8080/"
        },
        "id": "ou8V3D0nucqi",
        "outputId": "83eb438e-c162-44ee-c702-57e193560baa"
      },
      "execution_count": null,
      "outputs": [
        {
          "output_type": "stream",
          "name": "stdout",
          "text": [
            "[ 0.   2.5  5.   7.5 10. ]\n"
          ]
        }
      ]
    },
    {
      "cell_type": "code",
      "source": [
        "import numpy as np\n",
        "\n",
        "print(np.nan)\n",
        "print(np.inf)"
      ],
      "metadata": {
        "colab": {
          "base_uri": "https://localhost:8080/"
        },
        "id": "t5BNP6-LvVgh",
        "outputId": "d97d45e0-a240-4f25-dea0-709aeed9f606"
      },
      "execution_count": null,
      "outputs": [
        {
          "output_type": "stream",
          "name": "stdout",
          "text": [
            "nan\n",
            "inf\n"
          ]
        }
      ]
    },
    {
      "cell_type": "code",
      "source": [
        "import numpy as np\n",
        "\n",
        "l1 = [1,2,3,4,5,6]\n",
        "ar = np.array(l1)\n",
        "print(l1 * 3)\n",
        "#There you have to multiply a list by three\n",
        "#Prints it three times in a row\n",
        "#Math operations not defined in the list\n",
        "\n",
        "\n",
        "#and see that\n",
        "print(ar* 3)"
      ],
      "metadata": {
        "colab": {
          "base_uri": "https://localhost:8080/"
        },
        "id": "dRbYDgFRvwJ0",
        "outputId": "9fcc53d0-1685-48aa-f79a-38d8bf133a74"
      },
      "execution_count": null,
      "outputs": [
        {
          "output_type": "stream",
          "name": "stdout",
          "text": [
            "[1, 2, 3, 4, 5, 6, 1, 2, 3, 4, 5, 6, 1, 2, 3, 4, 5, 6]\n",
            "[ 3  6  9 12 15 18]\n"
          ]
        }
      ]
    },
    {
      "cell_type": "code",
      "source": [
        "import numpy as np\n",
        "\n",
        "l1 = [1,2,3,4,5,6]\n",
        "ar = np.array(l1)\n",
        "print(ar + 4)\n",
        "#See all elements plus zero\n",
        "\n",
        "\n",
        "#Run this and see the result\n",
        "#print(l1 + 3)\n",
        "\n",
        "\n",
        "#Saw the error   See the sum of the two lists\n",
        "print(l1 + l1) # print(l1 * 2)"
      ],
      "metadata": {
        "colab": {
          "base_uri": "https://localhost:8080/"
        },
        "id": "D10zhUKGxGH4",
        "outputId": "5a61f327-04a0-41ec-fe8a-ac78cc1c75a9"
      },
      "execution_count": null,
      "outputs": [
        {
          "output_type": "stream",
          "name": "stdout",
          "text": [
            "[ 5  6  7  8  9 10]\n",
            "[1, 2, 3, 4, 5, 6, 1, 2, 3, 4, 5, 6]\n"
          ]
        }
      ]
    },
    {
      "cell_type": "code",
      "source": [
        "#Mathematical property gives addition and subtraction, division of numbers, and even two error lists\n",
        "#Try it for yourself\n"
      ],
      "metadata": {
        "id": "ZK5bi5TOyjwl"
      },
      "execution_count": null,
      "outputs": []
    },
    {
      "cell_type": "code",
      "source": [
        "import numpy as np\n",
        "\n",
        "l1 = [1,2,3,4,5,6]\n",
        "ar1 = np.array(l1)\n",
        "\n",
        "l2 = [10,10,10,10,10,10]\n",
        "ar2 = np.array(l2)\n",
        "\n",
        "print(ar1 * ar2)\n",
        "#Mathematical operations are performed side by side\n",
        "print(ar1 * ar2)\n",
        "print(ar1 / ar2)\n",
        "print(ar1 + ar2)\n",
        "print(ar1 - ar2)"
      ],
      "metadata": {
        "colab": {
          "base_uri": "https://localhost:8080/"
        },
        "id": "tZ_ub5HqyrSO",
        "outputId": "b613321f-9498-41bf-ca98-61245d23c4e7"
      },
      "execution_count": null,
      "outputs": [
        {
          "output_type": "stream",
          "name": "stdout",
          "text": [
            "[10 20 30 40 50 60]\n",
            "[10 20 30 40 50 60]\n",
            "[0.1 0.2 0.3 0.4 0.5 0.6]\n",
            "[11 12 13 14 15 16]\n",
            "[-9 -8 -7 -6 -5 -4]\n"
          ]
        }
      ]
    },
    {
      "cell_type": "code",
      "source": [
        "import numpy as np\n",
        "\n",
        "\n",
        "ar1 = np.array([1,2,3])\n",
        "ar2 = np.array([[1],\n",
        "               [2]\n",
        "               ])\n",
        "\n",
        "\n",
        "print(ar1 + ar2)\n",
        "\n",
        "#So cool\n",
        "#Once the presentation is assembled with the first row\n",
        "#And the second time with the second row\n",
        "\n",
        "#****Matrix addition rules are not here. Make no mistake\n"
      ],
      "metadata": {
        "colab": {
          "base_uri": "https://localhost:8080/"
        },
        "id": "LsXzlJupzxhF",
        "outputId": "d9931975-429b-4a9c-9257-ccd86e3cab0a"
      },
      "execution_count": null,
      "outputs": [
        {
          "output_type": "stream",
          "name": "stdout",
          "text": [
            "[[2 3 4]\n",
            " [3 4 5]]\n"
          ]
        }
      ]
    },
    {
      "cell_type": "code",
      "source": [
        "#Let's look at mathematical methods\n",
        "import numpy as np\n",
        "\n",
        "ar1 = np.array([[1,2,3],\n",
        "                [4,5,6]\n",
        "               ])\n",
        "\n",
        "\n",
        "print(np.sqrt(ar1))\n",
        "print(\"-----------------------------------\")\n",
        "\n",
        "print(np.sin(ar1))\n",
        "print(\"-----------------------------------\")\n",
        "\n",
        "print(np.cos(ar1))\n",
        "print(\"-----------------------------------\")\n",
        "\n",
        "print(np.tan(ar1))\n",
        "print(\"-----------------------------------\")\n",
        "\n",
        "print(np.arctan(ar1))\n",
        "print(\"-----------------------------------\")\n",
        "\n",
        "print(np.exp(ar1))\n",
        "print(\"-----------------------------------\")\n",
        "\n",
        "print(np.log10(ar1))\n",
        "print(\"-----------------------------------\")\n",
        "\n",
        "print(np.log2(ar1))\n",
        "print(\"-----------------------------------\")\n",
        "\n"
      ],
      "metadata": {
        "colab": {
          "base_uri": "https://localhost:8080/"
        },
        "id": "GuKCJg5v1XzG",
        "outputId": "7462c5e8-4687-4fc6-cc92-58b2569f8dac"
      },
      "execution_count": null,
      "outputs": [
        {
          "output_type": "stream",
          "name": "stdout",
          "text": [
            "[[1.         1.41421356 1.73205081]\n",
            " [2.         2.23606798 2.44948974]]\n",
            "-----------------------------------\n",
            "[[ 0.84147098  0.90929743  0.14112001]\n",
            " [-0.7568025  -0.95892427 -0.2794155 ]]\n",
            "-----------------------------------\n",
            "[[ 0.54030231 -0.41614684 -0.9899925 ]\n",
            " [-0.65364362  0.28366219  0.96017029]]\n",
            "-----------------------------------\n",
            "[[ 1.55740772 -2.18503986 -0.14254654]\n",
            " [ 1.15782128 -3.38051501 -0.29100619]]\n",
            "-----------------------------------\n",
            "[[0.78539816 1.10714872 1.24904577]\n",
            " [1.32581766 1.37340077 1.40564765]]\n",
            "-----------------------------------\n",
            "[[  2.71828183   7.3890561   20.08553692]\n",
            " [ 54.59815003 148.4131591  403.42879349]]\n",
            "-----------------------------------\n",
            "[[0.         0.30103    0.47712125]\n",
            " [0.60205999 0.69897    0.77815125]]\n",
            "-----------------------------------\n",
            "[[0.         1.         1.5849625 ]\n",
            " [2.         2.32192809 2.5849625 ]]\n",
            "-----------------------------------\n"
          ]
        }
      ]
    },
    {
      "cell_type": "code",
      "source": [
        "from numpy.lib.function_base import append\n",
        "#array method\n",
        "ar = np.array([1,2,3])\n",
        "#add\n",
        "ar = append(ar, [3,4,5])\n",
        "#You do not need a bracket for a variable\n",
        "print(ar)\n"
      ],
      "metadata": {
        "colab": {
          "base_uri": "https://localhost:8080/"
        },
        "id": "Yi13sWcr2zk3",
        "outputId": "f07f3387-3f31-4549-8bc1-ce761033d29d"
      },
      "execution_count": null,
      "outputs": [
        {
          "output_type": "stream",
          "name": "stdout",
          "text": [
            "[1 2 3 3 4 5]\n"
          ]
        }
      ]
    },
    {
      "cell_type": "code",
      "source": [
        "import numpy as np\n",
        "ar = np.array([[1,2,3],\n",
        "               [4,5,6]\n",
        "               ])\n",
        " \n",
        "ar = np.delete(ar , 1)\n",
        "#Removes by vector\n",
        "print(ar) "
      ],
      "metadata": {
        "colab": {
          "base_uri": "https://localhost:8080/"
        },
        "id": "j9ynPL5I4jAV",
        "outputId": "117f5cfe-9e23-4e7d-c356-cb3439596c4e"
      },
      "execution_count": null,
      "outputs": [
        {
          "output_type": "stream",
          "name": "stdout",
          "text": [
            "[1 3 4 5 6]\n"
          ]
        }
      ]
    },
    {
      "cell_type": "code",
      "source": [
        "import numpy as np\n",
        "ar = np.array([[1,2,3],\n",
        "               [4,5,6]\n",
        "               ])\n",
        "ar = np.delete(ar , 0, 1)\n",
        "#Cleans in a way that does not distort its shape\n",
        "print(ar)\n"
      ],
      "metadata": {
        "colab": {
          "base_uri": "https://localhost:8080/"
        },
        "id": "Qnz7BaTO7xSJ",
        "outputId": "aafc393d-bf4a-4ef6-bf52-e01b8904cef9"
      },
      "execution_count": null,
      "outputs": [
        {
          "output_type": "stream",
          "name": "stdout",
          "text": [
            "[[2 3]\n",
            " [5 6]]\n"
          ]
        }
      ]
    },
    {
      "cell_type": "code",
      "source": [
        "import numpy as np\n",
        "ar = np.array([[1,2,3,4,5],\n",
        "               [6,7,8,9,10],\n",
        "               [11,12,13,14,15],\n",
        "               [16,17,18,19,20]])\n",
        "print(ar.shape)\n",
        "ar = ar.reshape(5,4)\n",
        "print(ar)\n",
        "print(\"------------------\")\n",
        "\n",
        "ar = ar.reshape(1,20)\n",
        "print(ar)\n",
        "print(\"------------------\")\n",
        "ar = ar.reshape(20,1)\n",
        "print(ar)"
      ],
      "metadata": {
        "colab": {
          "base_uri": "https://localhost:8080/"
        },
        "id": "iw_2hnvW8naq",
        "outputId": "d93b63f9-5145-4cb1-b4dc-b00070557ce2"
      },
      "execution_count": null,
      "outputs": [
        {
          "output_type": "stream",
          "name": "stdout",
          "text": [
            "(4, 5)\n",
            "[[ 1  2  3  4]\n",
            " [ 5  6  7  8]\n",
            " [ 9 10 11 12]\n",
            " [13 14 15 16]\n",
            " [17 18 19 20]]\n",
            "------------------\n",
            "[[ 1  2  3  4  5  6  7  8  9 10 11 12 13 14 15 16 17 18 19 20]]\n",
            "------------------\n",
            "[[ 1]\n",
            " [ 2]\n",
            " [ 3]\n",
            " [ 4]\n",
            " [ 5]\n",
            " [ 6]\n",
            " [ 7]\n",
            " [ 8]\n",
            " [ 9]\n",
            " [10]\n",
            " [11]\n",
            " [12]\n",
            " [13]\n",
            " [14]\n",
            " [15]\n",
            " [16]\n",
            " [17]\n",
            " [18]\n",
            " [19]\n",
            " [20]]\n"
          ]
        }
      ]
    },
    {
      "cell_type": "code",
      "source": [
        "import numpy as np\n",
        "ar = np.array([[1,2,3,4,5],\n",
        "               [6,7,8,9,10],\n",
        "               [11,12,13,14,15],\n",
        "               [16,17,18,19,20]])\n",
        "\n",
        "ar.resize((10,2))\n",
        "print(ar)\n",
        "print(\"--------------------\")\n",
        "ar = ar.reshape(10,2)\n",
        "print(ar)\n",
        "#The only difference with the previous method is that it saves directly and does not need to be returned to itself."
      ],
      "metadata": {
        "colab": {
          "base_uri": "https://localhost:8080/"
        },
        "id": "dsUrfilW-8T5",
        "outputId": "ee3e2d23-9247-4341-e2b8-9632eb97629c"
      },
      "execution_count": null,
      "outputs": [
        {
          "output_type": "stream",
          "name": "stdout",
          "text": [
            "[[ 1  2]\n",
            " [ 3  4]\n",
            " [ 5  6]\n",
            " [ 7  8]\n",
            " [ 9 10]\n",
            " [11 12]\n",
            " [13 14]\n",
            " [15 16]\n",
            " [17 18]\n",
            " [19 20]]\n",
            "--------------------\n",
            "[[ 1  2]\n",
            " [ 3  4]\n",
            " [ 5  6]\n",
            " [ 7  8]\n",
            " [ 9 10]\n",
            " [11 12]\n",
            " [13 14]\n",
            " [15 16]\n",
            " [17 18]\n",
            " [19 20]]\n"
          ]
        }
      ]
    },
    {
      "cell_type": "code",
      "source": [
        "#Flattening\n",
        "import numpy as np\n",
        "ar = np.array([[1,2,3,4,5],\n",
        "               [6,7,8,9,10],\n",
        "               [11,12,13,14,15],\n",
        "               [16,17,18,19,20]])\n",
        "\n",
        "\n",
        "\n",
        "ar = ar.flatten()\n",
        "print(ar)"
      ],
      "metadata": {
        "colab": {
          "base_uri": "https://localhost:8080/"
        },
        "id": "yzha_CPnADNZ",
        "outputId": "9dfb7dc0-cbd9-44a4-836c-2ed42156735c"
      },
      "execution_count": null,
      "outputs": [
        {
          "output_type": "stream",
          "name": "stdout",
          "text": [
            "[ 1  2  3  4  5  6  7  8  9 10 11 12 13 14 15 16 17 18 19 20]\n"
          ]
        }
      ]
    },
    {
      "cell_type": "code",
      "source": [
        "#Flattening\n",
        "import numpy as np\n",
        "ar = np.array([[1,2,3,4,5],\n",
        "               [6,7,8,9,10],\n",
        "               [11,12,13,14,15],\n",
        "               [16,17,18,19,20]])\n",
        "\n",
        "l1 = ar.flatten()\n",
        "l1[2] = 10000\n",
        "print(l1)\n",
        "print(ar)\n",
        "print(\"----------------\")\n",
        "\n",
        "l2 = ar.ravel()\n",
        "l2[2] = 10000\n",
        "print(l2)\n",
        "print(ar)\n",
        "#You see, ravel() is a copy function for the original array"
      ],
      "metadata": {
        "id": "uQfoRdlMAnCk",
        "colab": {
          "base_uri": "https://localhost:8080/"
        },
        "outputId": "55518dd9-871e-42b2-da4f-20d7e9e65c03"
      },
      "execution_count": null,
      "outputs": [
        {
          "output_type": "stream",
          "name": "stdout",
          "text": [
            "[    1     2 10000     4     5     6     7     8     9    10    11    12\n",
            "    13    14    15    16    17    18    19    20]\n",
            "[[ 1  2  3  4  5]\n",
            " [ 6  7  8  9 10]\n",
            " [11 12 13 14 15]\n",
            " [16 17 18 19 20]]\n",
            "----------------\n",
            "[    1     2 10000     4     5     6     7     8     9    10    11    12\n",
            "    13    14    15    16    17    18    19    20]\n",
            "[[    1     2 10000     4     5]\n",
            " [    6     7     8     9    10]\n",
            " [   11    12    13    14    15]\n",
            " [   16    17    18    19    20]]\n"
          ]
        }
      ]
    },
    {
      "cell_type": "code",
      "source": [
        "#Flattening\n",
        "import numpy as np\n",
        "ar = np.array([[1,2,3,4,5],\n",
        "               [6,7,8,9,10],\n",
        "               [11,12,13,14,15],\n",
        "               [16,17,18,19,20]])\n",
        "\n",
        "\n",
        "var = [v for v in ar.flat]\n",
        "print(var)\n"
      ],
      "metadata": {
        "colab": {
          "base_uri": "https://localhost:8080/"
        },
        "id": "ap1D6j0y2ZkK",
        "outputId": "01a3808a-0bdb-40ea-c1d0-5646875d98e6"
      },
      "execution_count": null,
      "outputs": [
        {
          "output_type": "stream",
          "name": "stdout",
          "text": [
            "[1, 2, 3, 4, 5, 6, 7, 8, 9, 10, 11, 12, 13, 14, 15, 16, 17, 18, 19, 20]\n"
          ]
        }
      ]
    },
    {
      "cell_type": "code",
      "source": [
        "#Rotation\n",
        "import numpy as np\n",
        "ar = np.array([[1,2,3,4,5],\n",
        "               [6,7,8,9,10],\n",
        "               [11,12,13,14,15],\n",
        "               [16,17,18,19,20]])\n",
        "\n",
        "\n",
        "print(ar.transpose()) \n",
        "print(ar.T)\n",
        "#This is a spin that you notice by looking"
      ],
      "metadata": {
        "colab": {
          "base_uri": "https://localhost:8080/"
        },
        "id": "XMbITFe_20mu",
        "outputId": "03fd2c5f-f356-42c9-c49b-10e8f948fe96"
      },
      "execution_count": null,
      "outputs": [
        {
          "output_type": "stream",
          "name": "stdout",
          "text": [
            "[[ 1  6 11 16]\n",
            " [ 2  7 12 17]\n",
            " [ 3  8 13 18]\n",
            " [ 4  9 14 19]\n",
            " [ 5 10 15 20]]\n",
            "[[ 1  6 11 16]\n",
            " [ 2  7 12 17]\n",
            " [ 3  8 13 18]\n",
            " [ 4  9 14 19]\n",
            " [ 5 10 15 20]]\n"
          ]
        }
      ]
    },
    {
      "cell_type": "code",
      "source": [
        "#Aggregate Functions\n",
        "import numpy as np\n",
        "ar = np.array([[1,2,3,4,5],\n",
        "               [6,7,8,9,10],\n",
        "               [11,12,13,14,15],\n",
        "               [16,17,18,19,20]])\n",
        "\n",
        "#Shows the lowest membership\n",
        "print(ar.min())\n",
        "#Shows the largest member\n",
        "print(ar.max())\n",
        "#Shows the average\n",
        "print(ar.mean())\n",
        "#Indicates standard deviation\n",
        "print(ar.std())\n",
        "#Shows the sum of all elements\n",
        "print(ar.sum())\n",
        "#Shows the middle\n",
        "print(np.median(ar))"
      ],
      "metadata": {
        "colab": {
          "base_uri": "https://localhost:8080/"
        },
        "id": "vB6gHA_z3xXt",
        "outputId": "0bf75d73-48a4-4a09-937b-619ae3a0d08f"
      },
      "execution_count": null,
      "outputs": [
        {
          "output_type": "stream",
          "name": "stdout",
          "text": [
            "1\n",
            "20\n",
            "10.5\n",
            "5.766281297335398\n",
            "210\n",
            "10.5\n"
          ]
        }
      ]
    },
    {
      "cell_type": "code",
      "source": [
        "#random\n",
        "import numpy as np\n",
        "number = np.random.randint(100)\n",
        "#randint-->Integer\n",
        "#100-->Range 100\n",
        "print(number)"
      ],
      "metadata": {
        "colab": {
          "base_uri": "https://localhost:8080/"
        },
        "id": "qVh6uQgV5sQp",
        "outputId": "f30c0144-fe4d-4bfb-d5ef-5702549f2a0f"
      },
      "execution_count": null,
      "outputs": [
        {
          "output_type": "stream",
          "name": "stdout",
          "text": [
            "29\n"
          ]
        }
      ]
    },
    {
      "cell_type": "code",
      "source": [
        "#random\n",
        "import numpy as np\n",
        "array = np.random.randint(100, size = (4,5))\n",
        "#array 4 X 5\n",
        "print(array)"
      ],
      "metadata": {
        "colab": {
          "base_uri": "https://localhost:8080/"
        },
        "id": "-6lGrI7Q6eKt",
        "outputId": "9991f216-1216-4269-c523-a3a2e2a0a5d7"
      },
      "execution_count": null,
      "outputs": [
        {
          "output_type": "stream",
          "name": "stdout",
          "text": [
            "[[26  0 41 50 44]\n",
            " [33 31 91 92 15]\n",
            " [38  8 97 50 18]\n",
            " [95 53 46 74  9]]\n"
          ]
        }
      ]
    },
    {
      "cell_type": "code",
      "source": [
        "#random\n",
        "import numpy as np\n",
        "array = np.random.randint(80 ,100, size = (4,5))\n",
        "#array 4 X 5\n",
        "print(array)\n",
        "#range 80 --- > 99"
      ],
      "metadata": {
        "colab": {
          "base_uri": "https://localhost:8080/"
        },
        "id": "w-S8WXgw632E",
        "outputId": "ee4eb895-ee26-48ef-fff7-0770e1811a86"
      },
      "execution_count": null,
      "outputs": [
        {
          "output_type": "stream",
          "name": "stdout",
          "text": [
            "[[84 97 81 80 97]\n",
            " [86 87 98 89 90]\n",
            " [91 83 84 88 82]\n",
            " [84 92 96 93 83]]\n"
          ]
        }
      ]
    },
    {
      "cell_type": "code",
      "source": [
        "#random\n",
        "import numpy as np\n",
        "numbers = np.random.binomial(10, p = 0.4 , size = (4,4))\n",
        "#p --> Possibility\n",
        "print(numbers)"
      ],
      "metadata": {
        "colab": {
          "base_uri": "https://localhost:8080/"
        },
        "id": "LE-zoasu7cPu",
        "outputId": "bf7f98fa-f313-49f9-d60f-2fb03acece68"
      },
      "execution_count": null,
      "outputs": [
        {
          "output_type": "stream",
          "name": "stdout",
          "text": [
            "[[5 7 4 7]\n",
            " [3 5 2 5]\n",
            " [5 5 3 5]\n",
            " [4 3 6 3]]\n"
          ]
        }
      ]
    },
    {
      "cell_type": "code",
      "source": [
        "#random\n",
        "import numpy as np\n",
        "number = np.random.choice([10,25,368,145,48])\n",
        "print(number)\n",
        "print(\"--------------------\")\n",
        "number = np.random.choice([10,25,368,145,48], size = (4,5))\n",
        "print(number)"
      ],
      "metadata": {
        "colab": {
          "base_uri": "https://localhost:8080/"
        },
        "id": "ZldIokKM8Vaw",
        "outputId": "7e6c8617-ce75-4465-b4bd-fd69d431d8fe"
      },
      "execution_count": null,
      "outputs": [
        {
          "output_type": "stream",
          "name": "stdout",
          "text": [
            "145\n",
            "--------------------\n",
            "[[ 48  25  25  25 145]\n",
            " [368  10 145  48  48]\n",
            " [ 48 145 368  48 368]\n",
            " [ 48  48 368  10  48]]\n"
          ]
        }
      ]
    },
    {
      "cell_type": "code",
      "source": [
        "#csv files\n",
        "import numpy as np\n",
        "ar = np.array([[1,2,3,4,5],\n",
        "               [6,7,8,9,10],\n",
        "               [11,12,13,14,15],\n",
        "               [16,17,18,19,20]])\n",
        "\n",
        "\n",
        "np.save(\"1.npy\", ar)\n",
        "#If you see the file Is binary\n",
        "files = np.load(\"1.npy\")\n",
        "print(files)"
      ],
      "metadata": {
        "colab": {
          "base_uri": "https://localhost:8080/"
        },
        "id": "kPkE6jEc9YjI",
        "outputId": "18649e07-72f2-4338-908b-ae98ebb6445b"
      },
      "execution_count": null,
      "outputs": [
        {
          "output_type": "stream",
          "name": "stdout",
          "text": [
            "[[ 1  2  3  4  5]\n",
            " [ 6  7  8  9 10]\n",
            " [11 12 13 14 15]\n",
            " [16 17 18 19 20]]\n"
          ]
        }
      ]
    },
    {
      "cell_type": "code",
      "source": [
        "#csv files\n",
        "import numpy as np\n",
        "ar = np.array([[1,2,3,4,5],\n",
        "               [6,7,8,9,10],\n",
        "               [11,12,13,14,15],\n",
        "               [16,17,18,19,20]])\n",
        "\n",
        "np.savetxt(\"2.csv\", ar, delimiter  = \",\")\n",
        "files = np.loadtxt(\"2.csv\", delimiter  = \",\")\n",
        "print(files)"
      ],
      "metadata": {
        "colab": {
          "base_uri": "https://localhost:8080/"
        },
        "id": "OhShk8vl_Wwe",
        "outputId": "8b5ba1af-9ce0-4337-bcfe-92bfecec0bff"
      },
      "execution_count": null,
      "outputs": [
        {
          "output_type": "stream",
          "name": "stdout",
          "text": [
            "[[ 1.  2.  3.  4.  5.]\n",
            " [ 6.  7.  8.  9. 10.]\n",
            " [11. 12. 13. 14. 15.]\n",
            " [16. 17. 18. 19. 20.]]\n"
          ]
        }
      ]
    },
    {
      "cell_type": "code",
      "source": [
        "#matrix\n",
        "import numpy as np\n",
        "\n",
        "m = np.matrix([[1,2],[3,4]])\n",
        "print(m)"
      ],
      "metadata": {
        "colab": {
          "base_uri": "https://localhost:8080/"
        },
        "id": "q9pK0FqPA5ib",
        "outputId": "4677d7c3-418d-4deb-d7a9-c8884a43526d"
      },
      "execution_count": null,
      "outputs": [
        {
          "output_type": "stream",
          "name": "stdout",
          "text": [
            "[[1 2]\n",
            " [3 4]]\n"
          ]
        }
      ]
    },
    {
      "cell_type": "code",
      "source": [
        "#matrix\n",
        "import numpy as np\n",
        "\n",
        "m = np.matrix([[1,2],[3,4]])\n",
        "print(np.linalg.inv(m))\n",
        "#Inverse Matrix"
      ],
      "metadata": {
        "colab": {
          "base_uri": "https://localhost:8080/"
        },
        "id": "eOsk8kNjA5wN",
        "outputId": "497ac487-d567-456f-c901-17cb50b4e9c2"
      },
      "execution_count": null,
      "outputs": [
        {
          "output_type": "stream",
          "name": "stdout",
          "text": [
            "[[-2.   1. ]\n",
            " [ 1.5 -0.5]]\n"
          ]
        }
      ]
    },
    {
      "cell_type": "code",
      "source": [
        "#matrix\n",
        "import numpy as np\n",
        "\n",
        "m1 = np.matrix([[1,2],[3,4]])\n",
        "print(m1)\n",
        "\n",
        "m2 = np.matrix([[1],[2]])\n",
        "print(m2)\n",
        "\n",
        "print(np.linalg.inv(m1).dot(m2))\n",
        "#(Inverse Matrix m1) * (m2)"
      ],
      "metadata": {
        "colab": {
          "base_uri": "https://localhost:8080/"
        },
        "id": "MQrt90dCA6H4",
        "outputId": "d78937b2-8c36-49b4-fee0-4453e85879c1"
      },
      "execution_count": null,
      "outputs": [
        {
          "output_type": "stream",
          "name": "stdout",
          "text": [
            "[[1 2]\n",
            " [3 4]]\n",
            "[[1]\n",
            " [2]]\n",
            "[[0. ]\n",
            " [0.5]]\n"
          ]
        }
      ]
    },
    {
      "cell_type": "code",
      "source": [
        "#matrix\n",
        "import numpy as np\n",
        "m1 = np.matrix([[1,2],[3,4]])\n",
        "print(m1)\n",
        "\n",
        "m2 = np.matrix([[1],[2]])\n",
        "print(m2)\n",
        "\n",
        "print(np.linalg.solve(m1,m2))\n",
        "#It looked like a top"
      ],
      "metadata": {
        "colab": {
          "base_uri": "https://localhost:8080/"
        },
        "id": "33HXINxYFYxa",
        "outputId": "711014c7-238b-4aa7-cb82-08ef271a2be9"
      },
      "execution_count": null,
      "outputs": [
        {
          "output_type": "stream",
          "name": "stdout",
          "text": [
            "[[1 2]\n",
            " [3 4]]\n",
            "[[1]\n",
            " [2]]\n",
            "[[0. ]\n",
            " [0.5]]\n"
          ]
        }
      ]
    }
  ]
}