{
 "cells": [
  {
   "cell_type": "code",
   "execution_count": 2,
   "metadata": {},
   "outputs": [],
   "source": [
    "import pandas as pd"
   ]
  },
  {
   "cell_type": "code",
   "execution_count": 9,
   "metadata": {},
   "outputs": [
    {
     "name": "stdout",
     "output_type": "stream",
     "text": [
      "0    1\n",
      "1    2\n",
      "2    3\n",
      "dtype: int64\n",
      "reza    17\n",
      "ali     19\n",
      "omid    22\n",
      "dtype: int64\n",
      "reza    [20, 19, 10]\n",
      "ali               19\n",
      "omid              29\n",
      "dtype: object\n"
     ]
    }
   ],
   "source": [
    "#series\n",
    "print(pd.Series([1, 2, 3]))\n",
    "#----------------------------------\n",
    "#index of series\n",
    "age = [17, 19, 22]\n",
    "name = [\"reza\", \"ali\", \"omid\"]\n",
    "print(pd.Series(age, name))\n",
    "#-----------------------------------\n",
    "\n",
    "#use dic in Series\n",
    "print(pd.Series({'reza' : 20, \"ali\" : 19, \"omid\" :29}))\n"
   ]
  },
  {
   "cell_type": "code",
   "execution_count": 8,
   "metadata": {},
   "outputs": [
    {
     "name": "stdout",
     "output_type": "stream",
     "text": [
      "reza    19\n",
      "ali     20\n",
      "omid    17\n",
      "dtype: int64\n",
      "19\n"
     ]
    }
   ],
   "source": [
    "#access in dataframe\n",
    "name = [\"reza\" , \"ali\", \"omid\",]\n",
    "age = [19, 20 ,17]\n",
    "ages = pd.Series(age, index = name)\n",
    "print(ages)\n",
    "\n",
    "print(ages[\"reza\"])"
   ]
  },
  {
   "cell_type": "code",
   "execution_count": 10,
   "metadata": {},
   "outputs": [
    {
     "name": "stdout",
     "output_type": "stream",
     "text": [
      "{'math': [20, 14, 12], 'phycis': [13, 17, 18]}\n",
      "   math  phycis\n",
      "0    20      13\n",
      "1    14      17\n",
      "2    12      18\n",
      "      math  phycis\n",
      "reza   NaN     NaN\n",
      "ali    NaN     NaN\n",
      "omid   NaN     NaN\n"
     ]
    }
   ],
   "source": [
    "#Data frame\n",
    "\n",
    "grade= {\n",
    "    'math'  : [20,14,12],\n",
    "    'phycis' : [13,17,18]\n",
    "}\n",
    "print(grade)\n",
    "\n",
    "grades = pd.DataFrame(grade)\n",
    "print(grades)\n",
    "#--------------------------------\n",
    "#index of data DataFrame\n",
    "grades_index = pd.DataFrame(grades,  name)\n",
    "print(grades_index)"
   ]
  },
  {
   "cell_type": "code",
   "execution_count": 14,
   "metadata": {},
   "outputs": [
    {
     "name": "stdout",
     "output_type": "stream",
     "text": [
      "adam       3\n",
      "bob        6\n",
      "charles    5\n",
      "Name: red_wine, dtype: int64\n"
     ]
    }
   ],
   "source": [
    "#access index in data frame\n",
    "#Think of DataFrame as a collection of the Series. Here, sales consists of two Series, one named under \"red_wine\", the other \"white_wine\", thus, we can access each series by calling its name\n",
    "wine_dict = {\n",
    "    'red_wine': [3, 6, 5],\n",
    "    'white_wine':[5, 0, 10]\n",
    "}\n",
    "sales = pd.DataFrame(wine_dict, index=[\"adam\", \"bob\", \"charles\"])\n",
    "print(sales['red_wine'])"
   ]
  },
  {
   "cell_type": "code",
   "execution_count": 15,
   "metadata": {},
   "outputs": [
    {
     "ename": "URLError",
     "evalue": "<urlopen error [Errno 11001] getaddrinfo failed>",
     "output_type": "error",
     "traceback": [
      "\u001b[1;31m---------------------------------------------------------------------------\u001b[0m",
      "\u001b[1;31mgaierror\u001b[0m                                  Traceback (most recent call last)",
      "File \u001b[1;32md:\\Python\\3.10\\lib\\urllib\\request.py:1348\u001b[0m, in \u001b[0;36mAbstractHTTPHandler.do_open\u001b[1;34m(self, http_class, req, **http_conn_args)\u001b[0m\n\u001b[0;32m   1347\u001b[0m \u001b[39mtry\u001b[39;00m:\n\u001b[1;32m-> 1348\u001b[0m     h\u001b[39m.\u001b[39;49mrequest(req\u001b[39m.\u001b[39;49mget_method(), req\u001b[39m.\u001b[39;49mselector, req\u001b[39m.\u001b[39;49mdata, headers,\n\u001b[0;32m   1349\u001b[0m               encode_chunked\u001b[39m=\u001b[39;49mreq\u001b[39m.\u001b[39;49mhas_header(\u001b[39m'\u001b[39;49m\u001b[39mTransfer-encoding\u001b[39;49m\u001b[39m'\u001b[39;49m))\n\u001b[0;32m   1350\u001b[0m \u001b[39mexcept\u001b[39;00m \u001b[39mOSError\u001b[39;00m \u001b[39mas\u001b[39;00m err: \u001b[39m# timeout error\u001b[39;00m\n",
      "File \u001b[1;32md:\\Python\\3.10\\lib\\http\\client.py:1282\u001b[0m, in \u001b[0;36mHTTPConnection.request\u001b[1;34m(self, method, url, body, headers, encode_chunked)\u001b[0m\n\u001b[0;32m   1281\u001b[0m \u001b[39m\"\"\"Send a complete request to the server.\"\"\"\u001b[39;00m\n\u001b[1;32m-> 1282\u001b[0m \u001b[39mself\u001b[39;49m\u001b[39m.\u001b[39;49m_send_request(method, url, body, headers, encode_chunked)\n",
      "File \u001b[1;32md:\\Python\\3.10\\lib\\http\\client.py:1328\u001b[0m, in \u001b[0;36mHTTPConnection._send_request\u001b[1;34m(self, method, url, body, headers, encode_chunked)\u001b[0m\n\u001b[0;32m   1327\u001b[0m     body \u001b[39m=\u001b[39m _encode(body, \u001b[39m'\u001b[39m\u001b[39mbody\u001b[39m\u001b[39m'\u001b[39m)\n\u001b[1;32m-> 1328\u001b[0m \u001b[39mself\u001b[39;49m\u001b[39m.\u001b[39;49mendheaders(body, encode_chunked\u001b[39m=\u001b[39;49mencode_chunked)\n",
      "File \u001b[1;32md:\\Python\\3.10\\lib\\http\\client.py:1277\u001b[0m, in \u001b[0;36mHTTPConnection.endheaders\u001b[1;34m(self, message_body, encode_chunked)\u001b[0m\n\u001b[0;32m   1276\u001b[0m     \u001b[39mraise\u001b[39;00m CannotSendHeader()\n\u001b[1;32m-> 1277\u001b[0m \u001b[39mself\u001b[39;49m\u001b[39m.\u001b[39;49m_send_output(message_body, encode_chunked\u001b[39m=\u001b[39;49mencode_chunked)\n",
      "File \u001b[1;32md:\\Python\\3.10\\lib\\http\\client.py:1037\u001b[0m, in \u001b[0;36mHTTPConnection._send_output\u001b[1;34m(self, message_body, encode_chunked)\u001b[0m\n\u001b[0;32m   1036\u001b[0m \u001b[39mdel\u001b[39;00m \u001b[39mself\u001b[39m\u001b[39m.\u001b[39m_buffer[:]\n\u001b[1;32m-> 1037\u001b[0m \u001b[39mself\u001b[39;49m\u001b[39m.\u001b[39;49msend(msg)\n\u001b[0;32m   1039\u001b[0m \u001b[39mif\u001b[39;00m message_body \u001b[39mis\u001b[39;00m \u001b[39mnot\u001b[39;00m \u001b[39mNone\u001b[39;00m:\n\u001b[0;32m   1040\u001b[0m \n\u001b[0;32m   1041\u001b[0m     \u001b[39m# create a consistent interface to message_body\u001b[39;00m\n",
      "File \u001b[1;32md:\\Python\\3.10\\lib\\http\\client.py:975\u001b[0m, in \u001b[0;36mHTTPConnection.send\u001b[1;34m(self, data)\u001b[0m\n\u001b[0;32m    974\u001b[0m \u001b[39mif\u001b[39;00m \u001b[39mself\u001b[39m\u001b[39m.\u001b[39mauto_open:\n\u001b[1;32m--> 975\u001b[0m     \u001b[39mself\u001b[39;49m\u001b[39m.\u001b[39;49mconnect()\n\u001b[0;32m    976\u001b[0m \u001b[39melse\u001b[39;00m:\n",
      "File \u001b[1;32md:\\Python\\3.10\\lib\\http\\client.py:1447\u001b[0m, in \u001b[0;36mHTTPSConnection.connect\u001b[1;34m(self)\u001b[0m\n\u001b[0;32m   1445\u001b[0m \u001b[39m\"\u001b[39m\u001b[39mConnect to a host on a given (SSL) port.\u001b[39m\u001b[39m\"\u001b[39m\n\u001b[1;32m-> 1447\u001b[0m \u001b[39msuper\u001b[39;49m()\u001b[39m.\u001b[39;49mconnect()\n\u001b[0;32m   1449\u001b[0m \u001b[39mif\u001b[39;00m \u001b[39mself\u001b[39m\u001b[39m.\u001b[39m_tunnel_host:\n",
      "File \u001b[1;32md:\\Python\\3.10\\lib\\http\\client.py:941\u001b[0m, in \u001b[0;36mHTTPConnection.connect\u001b[1;34m(self)\u001b[0m\n\u001b[0;32m    940\u001b[0m sys\u001b[39m.\u001b[39maudit(\u001b[39m\"\u001b[39m\u001b[39mhttp.client.connect\u001b[39m\u001b[39m\"\u001b[39m, \u001b[39mself\u001b[39m, \u001b[39mself\u001b[39m\u001b[39m.\u001b[39mhost, \u001b[39mself\u001b[39m\u001b[39m.\u001b[39mport)\n\u001b[1;32m--> 941\u001b[0m \u001b[39mself\u001b[39m\u001b[39m.\u001b[39msock \u001b[39m=\u001b[39m \u001b[39mself\u001b[39;49m\u001b[39m.\u001b[39;49m_create_connection(\n\u001b[0;32m    942\u001b[0m     (\u001b[39mself\u001b[39;49m\u001b[39m.\u001b[39;49mhost,\u001b[39mself\u001b[39;49m\u001b[39m.\u001b[39;49mport), \u001b[39mself\u001b[39;49m\u001b[39m.\u001b[39;49mtimeout, \u001b[39mself\u001b[39;49m\u001b[39m.\u001b[39;49msource_address)\n\u001b[0;32m    943\u001b[0m \u001b[39m# Might fail in OSs that don't implement TCP_NODELAY\u001b[39;00m\n",
      "File \u001b[1;32md:\\Python\\3.10\\lib\\socket.py:824\u001b[0m, in \u001b[0;36mcreate_connection\u001b[1;34m(address, timeout, source_address)\u001b[0m\n\u001b[0;32m    823\u001b[0m err \u001b[39m=\u001b[39m \u001b[39mNone\u001b[39;00m\n\u001b[1;32m--> 824\u001b[0m \u001b[39mfor\u001b[39;00m res \u001b[39min\u001b[39;00m getaddrinfo(host, port, \u001b[39m0\u001b[39;49m, SOCK_STREAM):\n\u001b[0;32m    825\u001b[0m     af, socktype, proto, canonname, sa \u001b[39m=\u001b[39m res\n",
      "File \u001b[1;32md:\\Python\\3.10\\lib\\socket.py:955\u001b[0m, in \u001b[0;36mgetaddrinfo\u001b[1;34m(host, port, family, type, proto, flags)\u001b[0m\n\u001b[0;32m    954\u001b[0m addrlist \u001b[39m=\u001b[39m []\n\u001b[1;32m--> 955\u001b[0m \u001b[39mfor\u001b[39;00m res \u001b[39min\u001b[39;00m _socket\u001b[39m.\u001b[39;49mgetaddrinfo(host, port, family, \u001b[39mtype\u001b[39;49m, proto, flags):\n\u001b[0;32m    956\u001b[0m     af, socktype, proto, canonname, sa \u001b[39m=\u001b[39m res\n",
      "\u001b[1;31mgaierror\u001b[0m: [Errno 11001] getaddrinfo failed",
      "\nDuring handling of the above exception, another exception occurred:\n",
      "\u001b[1;31mURLError\u001b[0m                                  Traceback (most recent call last)",
      "\u001b[1;32mc:\\Users\\Administrator\\Desktop\\py for data\\pandas.ipynb Cell 6\u001b[0m in \u001b[0;36m<cell line: 2>\u001b[1;34m()\u001b[0m\n\u001b[0;32m      <a href='vscode-notebook-cell:/c%3A/Users/Administrator/Desktop/py%20for%20data/pandas.ipynb#W5sZmlsZQ%3D%3D?line=0'>1</a>\u001b[0m \u001b[39m#Inspect a DataFrame - Shape and Size (in csv files)\u001b[39;00m\n\u001b[1;32m----> <a href='vscode-notebook-cell:/c%3A/Users/Administrator/Desktop/py%20for%20data/pandas.ipynb#W5sZmlsZQ%3D%3D?line=1'>2</a>\u001b[0m presidents_df \u001b[39m=\u001b[39m pd\u001b[39m.\u001b[39;49mread_csv(\u001b[39m'\u001b[39;49m\u001b[39mhttps://sololearn.com/uploads/files/president_heights_party.csv\u001b[39;49m\u001b[39m'\u001b[39;49m, index_col\u001b[39m=\u001b[39;49m\u001b[39m'\u001b[39;49m\u001b[39mname\u001b[39;49m\u001b[39m'\u001b[39;49m)\n\u001b[0;32m      <a href='vscode-notebook-cell:/c%3A/Users/Administrator/Desktop/py%20for%20data/pandas.ipynb#W5sZmlsZQ%3D%3D?line=2'>3</a>\u001b[0m presidents_df\u001b[39m.\u001b[39mshape \u001b[39m#return tuple\u001b[39;00m\n\u001b[0;32m      <a href='vscode-notebook-cell:/c%3A/Users/Administrator/Desktop/py%20for%20data/pandas.ipynb#W5sZmlsZQ%3D%3D?line=4'>5</a>\u001b[0m \u001b[39mprint\u001b[39m(presidents_df)\n",
      "File \u001b[1;32md:\\Python\\3.10\\lib\\site-packages\\pandas\\util\\_decorators.py:311\u001b[0m, in \u001b[0;36mdeprecate_nonkeyword_arguments.<locals>.decorate.<locals>.wrapper\u001b[1;34m(*args, **kwargs)\u001b[0m\n\u001b[0;32m    305\u001b[0m \u001b[39mif\u001b[39;00m \u001b[39mlen\u001b[39m(args) \u001b[39m>\u001b[39m num_allow_args:\n\u001b[0;32m    306\u001b[0m     warnings\u001b[39m.\u001b[39mwarn(\n\u001b[0;32m    307\u001b[0m         msg\u001b[39m.\u001b[39mformat(arguments\u001b[39m=\u001b[39marguments),\n\u001b[0;32m    308\u001b[0m         \u001b[39mFutureWarning\u001b[39;00m,\n\u001b[0;32m    309\u001b[0m         stacklevel\u001b[39m=\u001b[39mstacklevel,\n\u001b[0;32m    310\u001b[0m     )\n\u001b[1;32m--> 311\u001b[0m \u001b[39mreturn\u001b[39;00m func(\u001b[39m*\u001b[39margs, \u001b[39m*\u001b[39m\u001b[39m*\u001b[39mkwargs)\n",
      "File \u001b[1;32md:\\Python\\3.10\\lib\\site-packages\\pandas\\io\\parsers\\readers.py:680\u001b[0m, in \u001b[0;36mread_csv\u001b[1;34m(filepath_or_buffer, sep, delimiter, header, names, index_col, usecols, squeeze, prefix, mangle_dupe_cols, dtype, engine, converters, true_values, false_values, skipinitialspace, skiprows, skipfooter, nrows, na_values, keep_default_na, na_filter, verbose, skip_blank_lines, parse_dates, infer_datetime_format, keep_date_col, date_parser, dayfirst, cache_dates, iterator, chunksize, compression, thousands, decimal, lineterminator, quotechar, quoting, doublequote, escapechar, comment, encoding, encoding_errors, dialect, error_bad_lines, warn_bad_lines, on_bad_lines, delim_whitespace, low_memory, memory_map, float_precision, storage_options)\u001b[0m\n\u001b[0;32m    665\u001b[0m kwds_defaults \u001b[39m=\u001b[39m _refine_defaults_read(\n\u001b[0;32m    666\u001b[0m     dialect,\n\u001b[0;32m    667\u001b[0m     delimiter,\n\u001b[1;32m   (...)\u001b[0m\n\u001b[0;32m    676\u001b[0m     defaults\u001b[39m=\u001b[39m{\u001b[39m\"\u001b[39m\u001b[39mdelimiter\u001b[39m\u001b[39m\"\u001b[39m: \u001b[39m\"\u001b[39m\u001b[39m,\u001b[39m\u001b[39m\"\u001b[39m},\n\u001b[0;32m    677\u001b[0m )\n\u001b[0;32m    678\u001b[0m kwds\u001b[39m.\u001b[39mupdate(kwds_defaults)\n\u001b[1;32m--> 680\u001b[0m \u001b[39mreturn\u001b[39;00m _read(filepath_or_buffer, kwds)\n",
      "File \u001b[1;32md:\\Python\\3.10\\lib\\site-packages\\pandas\\io\\parsers\\readers.py:575\u001b[0m, in \u001b[0;36m_read\u001b[1;34m(filepath_or_buffer, kwds)\u001b[0m\n\u001b[0;32m    572\u001b[0m _validate_names(kwds\u001b[39m.\u001b[39mget(\u001b[39m\"\u001b[39m\u001b[39mnames\u001b[39m\u001b[39m\"\u001b[39m, \u001b[39mNone\u001b[39;00m))\n\u001b[0;32m    574\u001b[0m \u001b[39m# Create the parser.\u001b[39;00m\n\u001b[1;32m--> 575\u001b[0m parser \u001b[39m=\u001b[39m TextFileReader(filepath_or_buffer, \u001b[39m*\u001b[39m\u001b[39m*\u001b[39mkwds)\n\u001b[0;32m    577\u001b[0m \u001b[39mif\u001b[39;00m chunksize \u001b[39mor\u001b[39;00m iterator:\n\u001b[0;32m    578\u001b[0m     \u001b[39mreturn\u001b[39;00m parser\n",
      "File \u001b[1;32md:\\Python\\3.10\\lib\\site-packages\\pandas\\io\\parsers\\readers.py:933\u001b[0m, in \u001b[0;36mTextFileReader.__init__\u001b[1;34m(self, f, engine, **kwds)\u001b[0m\n\u001b[0;32m    930\u001b[0m     \u001b[39mself\u001b[39m\u001b[39m.\u001b[39moptions[\u001b[39m\"\u001b[39m\u001b[39mhas_index_names\u001b[39m\u001b[39m\"\u001b[39m] \u001b[39m=\u001b[39m kwds[\u001b[39m\"\u001b[39m\u001b[39mhas_index_names\u001b[39m\u001b[39m\"\u001b[39m]\n\u001b[0;32m    932\u001b[0m \u001b[39mself\u001b[39m\u001b[39m.\u001b[39mhandles: IOHandles \u001b[39m|\u001b[39m \u001b[39mNone\u001b[39;00m \u001b[39m=\u001b[39m \u001b[39mNone\u001b[39;00m\n\u001b[1;32m--> 933\u001b[0m \u001b[39mself\u001b[39m\u001b[39m.\u001b[39m_engine \u001b[39m=\u001b[39m \u001b[39mself\u001b[39;49m\u001b[39m.\u001b[39;49m_make_engine(f, \u001b[39mself\u001b[39;49m\u001b[39m.\u001b[39;49mengine)\n",
      "File \u001b[1;32md:\\Python\\3.10\\lib\\site-packages\\pandas\\io\\parsers\\readers.py:1217\u001b[0m, in \u001b[0;36mTextFileReader._make_engine\u001b[1;34m(self, f, engine)\u001b[0m\n\u001b[0;32m   1213\u001b[0m     mode \u001b[39m=\u001b[39m \u001b[39m\"\u001b[39m\u001b[39mrb\u001b[39m\u001b[39m\"\u001b[39m\n\u001b[0;32m   1214\u001b[0m \u001b[39m# error: No overload variant of \"get_handle\" matches argument types\u001b[39;00m\n\u001b[0;32m   1215\u001b[0m \u001b[39m# \"Union[str, PathLike[str], ReadCsvBuffer[bytes], ReadCsvBuffer[str]]\"\u001b[39;00m\n\u001b[0;32m   1216\u001b[0m \u001b[39m# , \"str\", \"bool\", \"Any\", \"Any\", \"Any\", \"Any\", \"Any\"\u001b[39;00m\n\u001b[1;32m-> 1217\u001b[0m \u001b[39mself\u001b[39m\u001b[39m.\u001b[39mhandles \u001b[39m=\u001b[39m get_handle(  \u001b[39m# type: ignore[call-overload]\u001b[39;49;00m\n\u001b[0;32m   1218\u001b[0m     f,\n\u001b[0;32m   1219\u001b[0m     mode,\n\u001b[0;32m   1220\u001b[0m     encoding\u001b[39m=\u001b[39;49m\u001b[39mself\u001b[39;49m\u001b[39m.\u001b[39;49moptions\u001b[39m.\u001b[39;49mget(\u001b[39m\"\u001b[39;49m\u001b[39mencoding\u001b[39;49m\u001b[39m\"\u001b[39;49m, \u001b[39mNone\u001b[39;49;00m),\n\u001b[0;32m   1221\u001b[0m     compression\u001b[39m=\u001b[39;49m\u001b[39mself\u001b[39;49m\u001b[39m.\u001b[39;49moptions\u001b[39m.\u001b[39;49mget(\u001b[39m\"\u001b[39;49m\u001b[39mcompression\u001b[39;49m\u001b[39m\"\u001b[39;49m, \u001b[39mNone\u001b[39;49;00m),\n\u001b[0;32m   1222\u001b[0m     memory_map\u001b[39m=\u001b[39;49m\u001b[39mself\u001b[39;49m\u001b[39m.\u001b[39;49moptions\u001b[39m.\u001b[39;49mget(\u001b[39m\"\u001b[39;49m\u001b[39mmemory_map\u001b[39;49m\u001b[39m\"\u001b[39;49m, \u001b[39mFalse\u001b[39;49;00m),\n\u001b[0;32m   1223\u001b[0m     is_text\u001b[39m=\u001b[39;49mis_text,\n\u001b[0;32m   1224\u001b[0m     errors\u001b[39m=\u001b[39;49m\u001b[39mself\u001b[39;49m\u001b[39m.\u001b[39;49moptions\u001b[39m.\u001b[39;49mget(\u001b[39m\"\u001b[39;49m\u001b[39mencoding_errors\u001b[39;49m\u001b[39m\"\u001b[39;49m, \u001b[39m\"\u001b[39;49m\u001b[39mstrict\u001b[39;49m\u001b[39m\"\u001b[39;49m),\n\u001b[0;32m   1225\u001b[0m     storage_options\u001b[39m=\u001b[39;49m\u001b[39mself\u001b[39;49m\u001b[39m.\u001b[39;49moptions\u001b[39m.\u001b[39;49mget(\u001b[39m\"\u001b[39;49m\u001b[39mstorage_options\u001b[39;49m\u001b[39m\"\u001b[39;49m, \u001b[39mNone\u001b[39;49;00m),\n\u001b[0;32m   1226\u001b[0m )\n\u001b[0;32m   1227\u001b[0m \u001b[39massert\u001b[39;00m \u001b[39mself\u001b[39m\u001b[39m.\u001b[39mhandles \u001b[39mis\u001b[39;00m \u001b[39mnot\u001b[39;00m \u001b[39mNone\u001b[39;00m\n\u001b[0;32m   1228\u001b[0m f \u001b[39m=\u001b[39m \u001b[39mself\u001b[39m\u001b[39m.\u001b[39mhandles\u001b[39m.\u001b[39mhandle\n",
      "File \u001b[1;32md:\\Python\\3.10\\lib\\site-packages\\pandas\\io\\common.py:670\u001b[0m, in \u001b[0;36mget_handle\u001b[1;34m(path_or_buf, mode, encoding, compression, memory_map, is_text, errors, storage_options)\u001b[0m\n\u001b[0;32m    667\u001b[0m     codecs\u001b[39m.\u001b[39mlookup_error(errors)\n\u001b[0;32m    669\u001b[0m \u001b[39m# open URLs\u001b[39;00m\n\u001b[1;32m--> 670\u001b[0m ioargs \u001b[39m=\u001b[39m _get_filepath_or_buffer(\n\u001b[0;32m    671\u001b[0m     path_or_buf,\n\u001b[0;32m    672\u001b[0m     encoding\u001b[39m=\u001b[39;49mencoding,\n\u001b[0;32m    673\u001b[0m     compression\u001b[39m=\u001b[39;49mcompression,\n\u001b[0;32m    674\u001b[0m     mode\u001b[39m=\u001b[39;49mmode,\n\u001b[0;32m    675\u001b[0m     storage_options\u001b[39m=\u001b[39;49mstorage_options,\n\u001b[0;32m    676\u001b[0m )\n\u001b[0;32m    678\u001b[0m handle \u001b[39m=\u001b[39m ioargs\u001b[39m.\u001b[39mfilepath_or_buffer\n\u001b[0;32m    679\u001b[0m handles: \u001b[39mlist\u001b[39m[BaseBuffer]\n",
      "File \u001b[1;32md:\\Python\\3.10\\lib\\site-packages\\pandas\\io\\common.py:339\u001b[0m, in \u001b[0;36m_get_filepath_or_buffer\u001b[1;34m(filepath_or_buffer, encoding, compression, mode, storage_options)\u001b[0m\n\u001b[0;32m    337\u001b[0m \u001b[39m# assuming storage_options is to be interpreted as headers\u001b[39;00m\n\u001b[0;32m    338\u001b[0m req_info \u001b[39m=\u001b[39m urllib\u001b[39m.\u001b[39mrequest\u001b[39m.\u001b[39mRequest(filepath_or_buffer, headers\u001b[39m=\u001b[39mstorage_options)\n\u001b[1;32m--> 339\u001b[0m \u001b[39mwith\u001b[39;00m urlopen(req_info) \u001b[39mas\u001b[39;00m req:\n\u001b[0;32m    340\u001b[0m     content_encoding \u001b[39m=\u001b[39m req\u001b[39m.\u001b[39mheaders\u001b[39m.\u001b[39mget(\u001b[39m\"\u001b[39m\u001b[39mContent-Encoding\u001b[39m\u001b[39m\"\u001b[39m, \u001b[39mNone\u001b[39;00m)\n\u001b[0;32m    341\u001b[0m     \u001b[39mif\u001b[39;00m content_encoding \u001b[39m==\u001b[39m \u001b[39m\"\u001b[39m\u001b[39mgzip\u001b[39m\u001b[39m\"\u001b[39m:\n\u001b[0;32m    342\u001b[0m         \u001b[39m# Override compression based on Content-Encoding header\u001b[39;00m\n",
      "File \u001b[1;32md:\\Python\\3.10\\lib\\site-packages\\pandas\\io\\common.py:239\u001b[0m, in \u001b[0;36murlopen\u001b[1;34m(*args, **kwargs)\u001b[0m\n\u001b[0;32m    233\u001b[0m \u001b[39m\"\"\"\u001b[39;00m\n\u001b[0;32m    234\u001b[0m \u001b[39mLazy-import wrapper for stdlib urlopen, as that imports a big chunk of\u001b[39;00m\n\u001b[0;32m    235\u001b[0m \u001b[39mthe stdlib.\u001b[39;00m\n\u001b[0;32m    236\u001b[0m \u001b[39m\"\"\"\u001b[39;00m\n\u001b[0;32m    237\u001b[0m \u001b[39mimport\u001b[39;00m \u001b[39murllib\u001b[39;00m\u001b[39m.\u001b[39;00m\u001b[39mrequest\u001b[39;00m\n\u001b[1;32m--> 239\u001b[0m \u001b[39mreturn\u001b[39;00m urllib\u001b[39m.\u001b[39mrequest\u001b[39m.\u001b[39murlopen(\u001b[39m*\u001b[39margs, \u001b[39m*\u001b[39m\u001b[39m*\u001b[39mkwargs)\n",
      "File \u001b[1;32md:\\Python\\3.10\\lib\\urllib\\request.py:216\u001b[0m, in \u001b[0;36murlopen\u001b[1;34m(url, data, timeout, cafile, capath, cadefault, context)\u001b[0m\n\u001b[0;32m    214\u001b[0m \u001b[39melse\u001b[39;00m:\n\u001b[0;32m    215\u001b[0m     opener \u001b[39m=\u001b[39m _opener\n\u001b[1;32m--> 216\u001b[0m \u001b[39mreturn\u001b[39;00m opener\u001b[39m.\u001b[39;49mopen(url, data, timeout)\n",
      "File \u001b[1;32md:\\Python\\3.10\\lib\\urllib\\request.py:519\u001b[0m, in \u001b[0;36mOpenerDirector.open\u001b[1;34m(self, fullurl, data, timeout)\u001b[0m\n\u001b[0;32m    516\u001b[0m     req \u001b[39m=\u001b[39m meth(req)\n\u001b[0;32m    518\u001b[0m sys\u001b[39m.\u001b[39maudit(\u001b[39m'\u001b[39m\u001b[39murllib.Request\u001b[39m\u001b[39m'\u001b[39m, req\u001b[39m.\u001b[39mfull_url, req\u001b[39m.\u001b[39mdata, req\u001b[39m.\u001b[39mheaders, req\u001b[39m.\u001b[39mget_method())\n\u001b[1;32m--> 519\u001b[0m response \u001b[39m=\u001b[39m \u001b[39mself\u001b[39;49m\u001b[39m.\u001b[39;49m_open(req, data)\n\u001b[0;32m    521\u001b[0m \u001b[39m# post-process response\u001b[39;00m\n\u001b[0;32m    522\u001b[0m meth_name \u001b[39m=\u001b[39m protocol\u001b[39m+\u001b[39m\u001b[39m\"\u001b[39m\u001b[39m_response\u001b[39m\u001b[39m\"\u001b[39m\n",
      "File \u001b[1;32md:\\Python\\3.10\\lib\\urllib\\request.py:536\u001b[0m, in \u001b[0;36mOpenerDirector._open\u001b[1;34m(self, req, data)\u001b[0m\n\u001b[0;32m    533\u001b[0m     \u001b[39mreturn\u001b[39;00m result\n\u001b[0;32m    535\u001b[0m protocol \u001b[39m=\u001b[39m req\u001b[39m.\u001b[39mtype\n\u001b[1;32m--> 536\u001b[0m result \u001b[39m=\u001b[39m \u001b[39mself\u001b[39;49m\u001b[39m.\u001b[39;49m_call_chain(\u001b[39mself\u001b[39;49m\u001b[39m.\u001b[39;49mhandle_open, protocol, protocol \u001b[39m+\u001b[39;49m\n\u001b[0;32m    537\u001b[0m                           \u001b[39m'\u001b[39;49m\u001b[39m_open\u001b[39;49m\u001b[39m'\u001b[39;49m, req)\n\u001b[0;32m    538\u001b[0m \u001b[39mif\u001b[39;00m result:\n\u001b[0;32m    539\u001b[0m     \u001b[39mreturn\u001b[39;00m result\n",
      "File \u001b[1;32md:\\Python\\3.10\\lib\\urllib\\request.py:496\u001b[0m, in \u001b[0;36mOpenerDirector._call_chain\u001b[1;34m(self, chain, kind, meth_name, *args)\u001b[0m\n\u001b[0;32m    494\u001b[0m \u001b[39mfor\u001b[39;00m handler \u001b[39min\u001b[39;00m handlers:\n\u001b[0;32m    495\u001b[0m     func \u001b[39m=\u001b[39m \u001b[39mgetattr\u001b[39m(handler, meth_name)\n\u001b[1;32m--> 496\u001b[0m     result \u001b[39m=\u001b[39m func(\u001b[39m*\u001b[39;49margs)\n\u001b[0;32m    497\u001b[0m     \u001b[39mif\u001b[39;00m result \u001b[39mis\u001b[39;00m \u001b[39mnot\u001b[39;00m \u001b[39mNone\u001b[39;00m:\n\u001b[0;32m    498\u001b[0m         \u001b[39mreturn\u001b[39;00m result\n",
      "File \u001b[1;32md:\\Python\\3.10\\lib\\urllib\\request.py:1391\u001b[0m, in \u001b[0;36mHTTPSHandler.https_open\u001b[1;34m(self, req)\u001b[0m\n\u001b[0;32m   1390\u001b[0m \u001b[39mdef\u001b[39;00m \u001b[39mhttps_open\u001b[39m(\u001b[39mself\u001b[39m, req):\n\u001b[1;32m-> 1391\u001b[0m     \u001b[39mreturn\u001b[39;00m \u001b[39mself\u001b[39;49m\u001b[39m.\u001b[39;49mdo_open(http\u001b[39m.\u001b[39;49mclient\u001b[39m.\u001b[39;49mHTTPSConnection, req,\n\u001b[0;32m   1392\u001b[0m         context\u001b[39m=\u001b[39;49m\u001b[39mself\u001b[39;49m\u001b[39m.\u001b[39;49m_context, check_hostname\u001b[39m=\u001b[39;49m\u001b[39mself\u001b[39;49m\u001b[39m.\u001b[39;49m_check_hostname)\n",
      "File \u001b[1;32md:\\Python\\3.10\\lib\\urllib\\request.py:1351\u001b[0m, in \u001b[0;36mAbstractHTTPHandler.do_open\u001b[1;34m(self, http_class, req, **http_conn_args)\u001b[0m\n\u001b[0;32m   1348\u001b[0m         h\u001b[39m.\u001b[39mrequest(req\u001b[39m.\u001b[39mget_method(), req\u001b[39m.\u001b[39mselector, req\u001b[39m.\u001b[39mdata, headers,\n\u001b[0;32m   1349\u001b[0m                   encode_chunked\u001b[39m=\u001b[39mreq\u001b[39m.\u001b[39mhas_header(\u001b[39m'\u001b[39m\u001b[39mTransfer-encoding\u001b[39m\u001b[39m'\u001b[39m))\n\u001b[0;32m   1350\u001b[0m     \u001b[39mexcept\u001b[39;00m \u001b[39mOSError\u001b[39;00m \u001b[39mas\u001b[39;00m err: \u001b[39m# timeout error\u001b[39;00m\n\u001b[1;32m-> 1351\u001b[0m         \u001b[39mraise\u001b[39;00m URLError(err)\n\u001b[0;32m   1352\u001b[0m     r \u001b[39m=\u001b[39m h\u001b[39m.\u001b[39mgetresponse()\n\u001b[0;32m   1353\u001b[0m \u001b[39mexcept\u001b[39;00m:\n",
      "\u001b[1;31mURLError\u001b[0m: <urlopen error [Errno 11001] getaddrinfo failed>"
     ]
    }
   ],
   "source": [
    "#Inspect a DataFrame - Shape and Size (in csv files)\n",
    "presidents_df = pd.read_csv('https://sololearn.com/uploads/files/president_heights_party.csv', index_col='name')\n",
    "presidents_df.shape #return tuple\n",
    "\n",
    "print(presidents_df)"
   ]
  },
  {
   "cell_type": "code",
   "execution_count": 34,
   "metadata": {},
   "outputs": [
    {
     "name": "stdout",
     "output_type": "stream",
     "text": [
      "                   order  age  height                  party\n",
      "name                                                        \n",
      "George Washington      1   57     189                   none\n",
      "John Adams             2   61     170             federalist\n",
      "Thomas Jefferson       3   57     189  democratic-republican\n",
      "                 order  age  height       party\n",
      "name                                           \n",
      "George W. Bush      43   54     182  republican\n",
      "Barack Obama        44   47     185  democratic\n",
      "Donald J. Trump     45   70     191  republican\n"
     ]
    }
   ],
   "source": [
    "#Inspect a DataFrame - Head and Tail\n",
    "#presidents_df.head()\n",
    "print(presidents_df.head(3))\n",
    "#---------------------------------------------------\n",
    "#presidents_df.tail()\n",
    "print(presidents_df.tail(3))"
   ]
  },
  {
   "cell_type": "code",
   "execution_count": 38,
   "metadata": {},
   "outputs": [
    {
     "name": "stdout",
     "output_type": "stream",
     "text": [
      "<class 'pandas.core.frame.DataFrame'>\n",
      "Index: 45 entries, George Washington to Donald J. Trump\n",
      "Data columns (total 4 columns):\n",
      " #   Column  Non-Null Count  Dtype \n",
      "---  ------  --------------  ----- \n",
      " 0   order   45 non-null     int64 \n",
      " 1   age     45 non-null     int64 \n",
      " 2   height  45 non-null     int64 \n",
      " 3   party   45 non-null     object\n",
      "dtypes: int64(3), object(1)\n",
      "memory usage: 1.8+ KB\n",
      "None\n"
     ]
    }
   ],
   "source": [
    "#Inspect a DataFrame - Info\n",
    "#Use .info() to get an overview of the DataFrame. Its output includes index, column names, count of non-null values, dtypes, and memory usage.\n",
    "print(presidents_df.info())"
   ]
  },
  {
   "cell_type": "code",
   "execution_count": 42,
   "metadata": {},
   "outputs": [
    {
     "name": "stdout",
     "output_type": "stream",
     "text": [
      "order             16\n",
      "age               52\n",
      "height           193\n",
      "party     republican\n",
      "Name: Abraham Lincoln, dtype: object\n",
      "<class 'pandas.core.series.Series'>\n",
      "(4,)\n",
      "                  order  age  height           party\n",
      "name                                                \n",
      "Abraham Lincoln      16   52     193      republican\n",
      "Andrew Johnson       17   56     178  national union\n",
      "Ulysses S. Grant     18   46     173      republican\n"
     ]
    }
   ],
   "source": [
    "#Rows with .loc\n",
    "details = presidents_df.loc['Abraham Lincoln']\n",
    "print(details)\n",
    "#------------\n",
    "print(type(details))\n",
    "#------------\n",
    "print(details.shape)\n",
    "#slice\n",
    "\n",
    "details1 = presidents_df.loc['Abraham Lincoln':'Ulysses S. Grant']\n",
    "print(details1)\n",
    "#in loc not not allow to use integer"
   ]
  },
  {
   "cell_type": "code",
   "execution_count": 46,
   "metadata": {},
   "outputs": [
    {
     "name": "stdout",
     "output_type": "stream",
     "text": [
      "order             16\n",
      "age               52\n",
      "height           193\n",
      "party     republican\n",
      "Name: Abraham Lincoln, dtype: object\n",
      "                  order  age  height           party\n",
      "name                                                \n",
      "Abraham Lincoln      16   52     193      republican\n",
      "Andrew Johnson       17   56     178  national union\n",
      "Ulysses S. Grant     18   46     173      republican\n"
     ]
    }
   ],
   "source": [
    "#Rows with .iloc\n",
    "print(presidents_df.iloc[15]) #same with other \n",
    "\n",
    "print(presidents_df.iloc[15:18]) #same with other "
   ]
  },
  {
   "cell_type": "code",
   "execution_count": 50,
   "metadata": {},
   "outputs": [
    {
     "name": "stdout",
     "output_type": "stream",
     "text": [
      "Index(['order', 'age', 'height', 'party'], dtype='object')\n",
      "name\n",
      "George Washington         189\n",
      "John Adams                170\n",
      "Thomas Jefferson          189\n",
      "James Madison             163\n",
      "James Monroe              183\n",
      "John Quincy Adams         171\n",
      "Andrew Jackson            185\n",
      "Martin Van Buren          168\n",
      "William Henry Harrison    173\n",
      "John Tyler                183\n",
      "James K. Polk             173\n",
      "Zachary Taylor            173\n",
      "Millard Fillmore          175\n",
      "Franklin Pierce           178\n",
      "James Buchanan            183\n",
      "Abraham Lincoln           193\n",
      "Andrew Johnson            178\n",
      "Ulysses S. Grant          173\n",
      "Rutherford B. Hayes       174\n",
      "James A. Garfield         183\n",
      "Chester A. Arthur         183\n",
      "Grover Cleveland          180\n",
      "Benjamin Harrison         168\n",
      "Grover Cleveland          180\n",
      "William McKinley          170\n",
      "Theodore Roosevelt        178\n",
      "William Howard Taft       182\n",
      "Woodrow Wilson            180\n",
      "Warren G. Harding         183\n",
      "Calvin Coolidge           178\n",
      "Herbert Hoover            182\n",
      "Franklin D. Roosevelt     188\n",
      "Harry S. Truman           175\n",
      "Dwight D. Eisenhower      179\n",
      "John F. Kennedy           183\n",
      "Lyndon B. Johnson         193\n",
      "Richard Nixon             182\n",
      "Gerald Ford               183\n",
      "Jimmy Carter              177\n",
      "Ronald Reagan             185\n",
      "George H. W. Bush         188\n",
      "Bill Clinton              188\n",
      "George W. Bush            182\n",
      "Barack Obama              185\n",
      "Donald J. Trump           191\n",
      "Name: height, dtype: int64\n",
      "(45,)\n",
      "                        age  order\n",
      "name                              \n",
      "George Washington        57      1\n",
      "John Adams               61      2\n",
      "Thomas Jefferson         57      3\n",
      "James Madison            57      4\n",
      "James Monroe             58      5\n",
      "John Quincy Adams        57      6\n",
      "Andrew Jackson           61      7\n",
      "Martin Van Buren         54      8\n",
      "William Henry Harrison   68      9\n",
      "John Tyler               51     10\n",
      "James K. Polk            49     11\n",
      "Zachary Taylor           64     12\n",
      "Millard Fillmore         50     13\n",
      "Franklin Pierce          48     14\n",
      "James Buchanan           65     15\n",
      "Abraham Lincoln          52     16\n",
      "Andrew Johnson           56     17\n",
      "Ulysses S. Grant         46     18\n",
      "Rutherford B. Hayes      54     19\n",
      "James A. Garfield        49     20\n",
      "Chester A. Arthur        51     21\n",
      "Grover Cleveland         47     22\n",
      "Benjamin Harrison        55     23\n",
      "Grover Cleveland         55     25\n",
      "William McKinley         54     25\n",
      "Theodore Roosevelt       42     26\n",
      "William Howard Taft      51     27\n",
      "Woodrow Wilson           56     28\n",
      "Warren G. Harding        55     29\n",
      "Calvin Coolidge          51     30\n",
      "Herbert Hoover           54     31\n",
      "Franklin D. Roosevelt    51     32\n",
      "Harry S. Truman          60     33\n",
      "Dwight D. Eisenhower     62     34\n",
      "John F. Kennedy          43     35\n",
      "Lyndon B. Johnson        55     36\n",
      "Richard Nixon            56     37\n",
      "Gerald Ford              61     38\n",
      "Jimmy Carter             52     39\n",
      "Ronald Reagan            69     40\n",
      "George H. W. Bush        64     41\n",
      "Bill Clinton             46     42\n",
      "George W. Bush           54     43\n",
      "Barack Obama             47     44\n",
      "Donald J. Trump          70     45\n"
     ]
    }
   ],
   "source": [
    "#Columns\n",
    "print(presidents_df.columns)\n",
    "#-------------\n",
    "#selest from the list\n",
    "print(presidents_df['height'])\n",
    "#-------------\n",
    "print(presidents_df['height'].shape)\n",
    "#When accessing a single column, one bracket results in a Series (single dimension) and double brackets results in a DataFrame (multi dimensional).\n",
    "print(presidents_df[['age', 'order']])"
   ]
  },
  {
   "cell_type": "code",
   "execution_count": 52,
   "metadata": {},
   "outputs": [
    {
     "name": "stdout",
     "output_type": "stream",
     "text": [
      "                        order  age  height\n",
      "name                                      \n",
      "George Washington           1   57     189\n",
      "John Adams                  2   61     170\n",
      "Thomas Jefferson            3   57     189\n",
      "James Madison               4   57     163\n",
      "James Monroe                5   58     183\n",
      "John Quincy Adams           6   57     171\n",
      "Andrew Jackson              7   61     185\n",
      "Martin Van Buren            8   54     168\n",
      "William Henry Harrison      9   68     173\n",
      "John Tyler                 10   51     183\n",
      "James K. Polk              11   49     173\n",
      "Zachary Taylor             12   64     173\n",
      "Millard Fillmore           13   50     175\n",
      "Franklin Pierce            14   48     178\n",
      "James Buchanan             15   65     183\n",
      "Abraham Lincoln            16   52     193\n",
      "Andrew Johnson             17   56     178\n",
      "Ulysses S. Grant           18   46     173\n",
      "Rutherford B. Hayes        19   54     174\n",
      "James A. Garfield          20   49     183\n",
      "Chester A. Arthur          21   51     183\n",
      "Grover Cleveland           22   47     180\n",
      "Benjamin Harrison          23   55     168\n",
      "Grover Cleveland           25   55     180\n",
      "William McKinley           25   54     170\n",
      "Theodore Roosevelt         26   42     178\n",
      "William Howard Taft        27   51     182\n",
      "Woodrow Wilson             28   56     180\n",
      "Warren G. Harding          29   55     183\n",
      "Calvin Coolidge            30   51     178\n",
      "Herbert Hoover             31   54     182\n",
      "Franklin D. Roosevelt      32   51     188\n",
      "Harry S. Truman            33   60     175\n",
      "Dwight D. Eisenhower       34   62     179\n",
      "John F. Kennedy            35   43     183\n",
      "Lyndon B. Johnson          36   55     193\n",
      "Richard Nixon              37   56     182\n",
      "Gerald Ford                38   61     183\n",
      "Jimmy Carter               39   52     177\n",
      "Ronald Reagan              40   69     185\n",
      "George H. W. Bush          41   64     188\n",
      "Bill Clinton               42   46     188\n",
      "George W. Bush             43   54     182\n",
      "Barack Obama               44   47     185\n",
      "Donald J. Trump            45   70     191\n"
     ]
    }
   ],
   "source": [
    "#more with <.loc>\n",
    "#If we wanted to access columns order, age, and height, we can do it with .loc. .loc allows us to access any of the columns. For example, if we wanted to access columns from order through height for the first three presidents\n",
    "\n",
    "print(presidents_df.loc[:, 'order':'height'])"
   ]
  },
  {
   "cell_type": "code",
   "execution_count": 57,
   "metadata": {},
   "outputs": [
    {
     "name": "stdout",
     "output_type": "stream",
     "text": [
      "order              1\n",
      "age               42\n",
      "height           163\n",
      "party     democratic\n",
      "dtype: object\n",
      "----------------------------------------------\n",
      "order       45\n",
      "age         70\n",
      "height     193\n",
      "party     whig\n",
      "dtype: object\n",
      "----------------------------------------------\n",
      "order      23.022222\n",
      "age        55.000000\n",
      "height    180.000000\n",
      "dtype: float64\n",
      "----------------------------------------------\n",
      "55.0\n"
     ]
    },
    {
     "name": "stderr",
     "output_type": "stream",
     "text": [
      "C:\\Users\\ADMINI~1\\AppData\\Local\\Temp/ipykernel_18460/2563459377.py:7: FutureWarning: Dropping of nuisance columns in DataFrame reductions (with 'numeric_only=None') is deprecated; in a future version this will raise TypeError.  Select only valid columns before calling the reduction.\n",
      "  print(presidents_df.mean())\n"
     ]
    }
   ],
   "source": [
    "#summmary statiscts\n",
    "#min max mean\n",
    "print(presidents_df.min())\n",
    "print(\"----------------------------------------------\")\n",
    "print(presidents_df.max())\n",
    "print(\"----------------------------------------------\")\n",
    "print(presidents_df.mean())\n",
    "print(\"----------------------------------------------\")\n",
    "print(presidents_df[\"age\"].mean())"
   ]
  },
  {
   "cell_type": "code",
   "execution_count": 60,
   "metadata": {},
   "outputs": [
    {
     "name": "stdout",
     "output_type": "stream",
     "text": [
      "0.25    51.0\n",
      "0.50    55.0\n",
      "0.75    58.0\n",
      "1.00    70.0\n",
      "Name: age, dtype: float64\n",
      "-------------------------------\n",
      "order      23.0\n",
      "age        55.0\n",
      "height    182.0\n",
      "dtype: float64\n"
     ]
    },
    {
     "name": "stderr",
     "output_type": "stream",
     "text": [
      "C:\\Users\\ADMINI~1\\AppData\\Local\\Temp/ipykernel_18460/785962092.py:11: FutureWarning: Dropping of nuisance columns in DataFrame reductions (with 'numeric_only=None') is deprecated; in a future version this will raise TypeError.  Select only valid columns before calling the reduction.\n",
      "  print(presidents_df.median())\n"
     ]
    }
   ],
   "source": [
    "#Quantiles\n",
    "\n",
    "#Quantiles are cut points dividing the range of the data into continuous intervals with an equal number of observations. Median is the only cut point in 2-quantiles, such that 50% of the data is below the median with the other half above it. \n",
    "#Quartiles let us quickly divide a set of data into four groups, making it easy to see which of the four groups a particular data point is in. Quartiles are then 4-quantiles, that is, 25% of the data are between the minimum and first quartile, the next is 25% between the first quartile and median, the next 25% is between the median and the third quartile, and the last 25% of the data lies between the third quartile and the maximum. \n",
    "\n",
    "print(presidents_df['age'].quantile([0.25, 0.5, 0.75, 1]))\n",
    "\n",
    "#Mean and median are usually not of the same value, unless the data is perfectly symmetric. The mean is the average of all the numbers added together and divided by the amount of numbers added. The median is the value separating the higher half from the lower half of the data sample. In the age data, the mean is close to its median, this implies that the data might be symmetric.\n",
    "\n",
    "print(\"-------------------------------\")\n",
    "print(presidents_df.median())\n",
    "\n",
    "#same qunaltie(0.5) and median"
   ]
  },
  {
   "cell_type": "code",
   "execution_count": 64,
   "metadata": {},
   "outputs": [
    {
     "name": "stdout",
     "output_type": "stream",
     "text": [
      "43.5\n",
      "6.59545297913646\n"
     ]
    }
   ],
   "source": [
    "#Variance and Standard Deviation\n",
    "print(presidents_df['age'].var())\n",
    "#----------------------------------------\n",
    "print(presidents_df[\"age\"].std())"
   ]
  },
  {
   "cell_type": "code",
   "execution_count": 65,
   "metadata": {},
   "outputs": [
    {
     "name": "stdout",
     "output_type": "stream",
     "text": [
      "           order        age      height\n",
      "count  45.000000  45.000000   45.000000\n",
      "mean   23.022222  55.000000  180.000000\n",
      "std    13.136502   6.595453    6.977236\n",
      "min     1.000000  42.000000  163.000000\n",
      "25%    12.000000  51.000000  175.000000\n",
      "50%    23.000000  55.000000  182.000000\n",
      "75%    34.000000  58.000000  183.000000\n",
      "max    45.000000  70.000000  193.000000\n"
     ]
    }
   ],
   "source": [
    "#describe()\n",
    "#describe() prints out almost all of the summary statistics mentioned previously except for the variance. In addition, it counts all non-null values of each column.\n",
    "\n",
    "print(presidents_df.describe())"
   ]
  },
  {
   "cell_type": "code",
   "execution_count": 68,
   "metadata": {},
   "outputs": [
    {
     "name": "stdout",
     "output_type": "stream",
     "text": [
      "republican               19\n",
      "democratic               15\n",
      "democratic-republican     4\n",
      "whig                      4\n",
      "none                      1\n",
      "federalist                1\n",
      "national union            1\n",
      "Name: party, dtype: int64\n",
      "---------------------------------\n",
      "count             45\n",
      "unique             7\n",
      "top       republican\n",
      "freq              19\n",
      "Name: party, dtype: object\n"
     ]
    }
   ],
   "source": [
    "#Categorical Variable\n",
    "#The fourth column 'party' was omitted in the output of .describe() because it is a categorical variable. A categorical variable is one that takes on a single value from a limited set of categories. It doesn’t make sense to calculate the mean of democratic, republican, federalist, and other parties. We can check the unique values and corresponding frequency by using .value_counts()\n",
    "\n",
    "print(presidents_df['party'].value_counts())\n",
    "print(\"---------------------------------\")\n",
    "print(presidents_df['party'].describe())"
   ]
  },
  {
   "cell_type": "code",
   "execution_count": 71,
   "metadata": {},
   "outputs": [
    {
     "data": {
      "text/html": [
       "<div>\n",
       "<style scoped>\n",
       "    .dataframe tbody tr th:only-of-type {\n",
       "        vertical-align: middle;\n",
       "    }\n",
       "\n",
       "    .dataframe tbody tr th {\n",
       "        vertical-align: top;\n",
       "    }\n",
       "\n",
       "    .dataframe thead th {\n",
       "        text-align: right;\n",
       "    }\n",
       "</style>\n",
       "<table border=\"1\" class=\"dataframe\">\n",
       "  <thead>\n",
       "    <tr style=\"text-align: right;\">\n",
       "      <th></th>\n",
       "      <th>order</th>\n",
       "      <th>age</th>\n",
       "      <th>height</th>\n",
       "    </tr>\n",
       "    <tr>\n",
       "      <th>party</th>\n",
       "      <th></th>\n",
       "      <th></th>\n",
       "      <th></th>\n",
       "    </tr>\n",
       "  </thead>\n",
       "  <tbody>\n",
       "    <tr>\n",
       "      <th>democratic</th>\n",
       "      <td>26.066667</td>\n",
       "      <td>52.600000</td>\n",
       "      <td>181.066667</td>\n",
       "    </tr>\n",
       "    <tr>\n",
       "      <th>democratic-republican</th>\n",
       "      <td>4.500000</td>\n",
       "      <td>57.250000</td>\n",
       "      <td>176.500000</td>\n",
       "    </tr>\n",
       "    <tr>\n",
       "      <th>federalist</th>\n",
       "      <td>2.000000</td>\n",
       "      <td>61.000000</td>\n",
       "      <td>170.000000</td>\n",
       "    </tr>\n",
       "    <tr>\n",
       "      <th>national union</th>\n",
       "      <td>17.000000</td>\n",
       "      <td>56.000000</td>\n",
       "      <td>178.000000</td>\n",
       "    </tr>\n",
       "    <tr>\n",
       "      <th>none</th>\n",
       "      <td>1.000000</td>\n",
       "      <td>57.000000</td>\n",
       "      <td>189.000000</td>\n",
       "    </tr>\n",
       "    <tr>\n",
       "      <th>republican</th>\n",
       "      <td>29.631579</td>\n",
       "      <td>55.263158</td>\n",
       "      <td>180.894737</td>\n",
       "    </tr>\n",
       "    <tr>\n",
       "      <th>whig</th>\n",
       "      <td>11.000000</td>\n",
       "      <td>58.250000</td>\n",
       "      <td>176.000000</td>\n",
       "    </tr>\n",
       "  </tbody>\n",
       "</table>\n",
       "</div>"
      ],
      "text/plain": [
       "                           order        age      height\n",
       "party                                                  \n",
       "democratic             26.066667  52.600000  181.066667\n",
       "democratic-republican   4.500000  57.250000  176.500000\n",
       "federalist              2.000000  61.000000  170.000000\n",
       "national union         17.000000  56.000000  178.000000\n",
       "none                    1.000000  57.000000  189.000000\n",
       "republican             29.631579  55.263158  180.894737\n",
       "whig                   11.000000  58.250000  176.000000"
      ]
     },
     "execution_count": 71,
     "metadata": {},
     "output_type": "execute_result"
    }
   ],
   "source": [
    "#Groupby\n",
    "presidents_df.groupby('party').mean()"
   ]
  },
  {
   "cell_type": "code",
   "execution_count": 78,
   "metadata": {},
   "outputs": [
    {
     "name": "stdout",
     "output_type": "stream",
     "text": [
      "                       min  median  max\n",
      "party                                  \n",
      "democratic             168   180.0  193\n",
      "democratic-republican  163   177.0  189\n",
      "federalist             170   170.0  170\n",
      "national union         178   178.0  178\n",
      "none                   189   189.0  189\n",
      "republican             168   182.0  193\n",
      "whig                   173   174.0  183\n",
      "------------------------------------------------------------------------\n",
      "                           height        age    \n",
      "                             mean median max min\n",
      "party                                           \n",
      "democratic             181.066667  180.0  65  43\n",
      "democratic-republican  176.500000  177.0  58  57\n",
      "federalist             170.000000  170.0  61  61\n",
      "national union         178.000000  178.0  56  56\n",
      "none                   189.000000  189.0  57  57\n",
      "republican             180.894737  182.0  70  42\n",
      "whig                   176.000000  174.0  68  50\n"
     ]
    }
   ],
   "source": [
    "#Aggregation\n",
    "import numpy as np\n",
    "print(presidents_df.groupby('party')['height'].agg([min, np.median, max]))\n",
    "\n",
    "print(\"------------------------------------------------------------------------\")\n",
    "\n",
    "print(presidents_df.groupby('party').agg({'height' : [np.mean , np.median], 'age' : [max, min]}))\n"
   ]
  },
  {
   "cell_type": "code",
   "execution_count": null,
   "metadata": {},
   "outputs": [],
   "source": []
  }
 ],
 "metadata": {
  "kernelspec": {
   "display_name": "Python 3.9.7 ('Desktop')",
   "language": "python",
   "name": "python3"
  },
  "language_info": {
   "codemirror_mode": {
    "name": "ipython",
    "version": 3
   },
   "file_extension": ".py",
   "mimetype": "text/x-python",
   "name": "python",
   "nbconvert_exporter": "python",
   "pygments_lexer": "ipython3",
   "version": "3.9.7"
  },
  "orig_nbformat": 4,
  "vscode": {
   "interpreter": {
    "hash": "6e4b5fd596f69a68a97e412a128a31a3d88d8e126edeb426e97a3b68b1afc0a2"
   }
  }
 },
 "nbformat": 4,
 "nbformat_minor": 2
}
